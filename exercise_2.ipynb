{
 "cells": [
  {
   "cell_type": "raw",
   "id": "3f265efe-05ab-4ce0-b44a-70da6ee3c092",
   "metadata": {},
   "source": [
    "# declaração das variáveis\n",
    "\n",
    "# verifica quais números são divisíveis por cinco, e exibe aqueles que são\n",
    "\n"
   ]
  },
  {
   "cell_type": "code",
   "execution_count": 3,
   "id": "737475f9-7bff-4aff-932c-72566e560a2a",
   "metadata": {},
   "outputs": [],
   "source": [
    "inicio = 0\n",
    "fim = 100"
   ]
  },
  {
   "cell_type": "code",
   "execution_count": 11,
   "id": "948d09bf-9b2a-4eef-82ca-0b8b9cc94cde",
   "metadata": {},
   "outputs": [
    {
     "name": "stdout",
     "output_type": "stream",
     "text": [
      "0\n",
      "5\n",
      "10\n",
      "15\n",
      "20\n",
      "25\n",
      "30\n",
      "35\n",
      "40\n",
      "45\n",
      "50\n",
      "55\n",
      "60\n",
      "65\n",
      "70\n",
      "75\n",
      "80\n",
      "85\n",
      "90\n",
      "95\n"
     ]
    }
   ],
   "source": [
    "for numero in range(inicio, fim):\n",
    " if numero % 5 == 0:\n",
    "     print(numero)"
   ]
  },
  {
   "cell_type": "raw",
   "id": "29d2900e-73a1-465b-b012-e9dc63c9faab",
   "metadata": {},
   "source": [
    "# Altere o código da atividade 1 para que ele exiba os números múltiplos de \n",
    "2, 5 e 7 (simultaneamente) e que estejam dentro do intervalo entre 100 e \n",
    "500 (incluindo o 100 e o 500)."
   ]
  },
  {
   "cell_type": "code",
   "execution_count": 21,
   "id": "6b7eee7d-d9c7-43d7-929d-8f4c263bd112",
   "metadata": {},
   "outputs": [],
   "source": [
    "inicio = 0\n",
    "fim = 501"
   ]
  },
  {
   "cell_type": "code",
   "execution_count": 25,
   "id": "c4b6e995-ded1-4ca9-b4b4-b3933d7674a8",
   "metadata": {},
   "outputs": [
    {
     "name": "stdout",
     "output_type": "stream",
     "text": [
      "0\n",
      "70\n",
      "140\n",
      "210\n",
      "280\n",
      "350\n",
      "420\n",
      "490\n"
     ]
    }
   ],
   "source": [
    "for numero in range(inicio, fim):\n",
    "    if numero % 2 == 0 and numero % 5 == 0 and numero % 7 == 0:\n",
    "         print(numero)"
   ]
  },
  {
   "cell_type": "raw",
   "id": "9974957a-2562-442e-83d2-f533d852b173",
   "metadata": {},
   "source": [
    "# Altere o código da atividade 1, criando uma variável divisor e, em seguida, \n",
    "verifique quais os números no intervalo entre 0 e 1000 (incluindo o 0 e \n",
    "excluindo o 1000) são múltiplos da variável divisor. "
   ]
  },
  {
   "cell_type": "code",
   "execution_count": 32,
   "id": "e5760608-9e58-4102-bb6e-762cbc325c1b",
   "metadata": {},
   "outputs": [
    {
     "name": "stdout",
     "output_type": "stream",
     "text": [
      "0\n",
      "7\n",
      "14\n",
      "21\n",
      "28\n",
      "35\n",
      "42\n",
      "49\n",
      "56\n",
      "63\n",
      "70\n",
      "77\n",
      "84\n",
      "91\n",
      "98\n",
      "105\n",
      "112\n",
      "119\n",
      "126\n",
      "133\n",
      "140\n",
      "147\n",
      "154\n",
      "161\n",
      "168\n",
      "175\n",
      "182\n",
      "189\n",
      "196\n",
      "203\n",
      "210\n",
      "217\n",
      "224\n",
      "231\n",
      "238\n",
      "245\n",
      "252\n",
      "259\n",
      "266\n",
      "273\n",
      "280\n",
      "287\n",
      "294\n",
      "301\n",
      "308\n",
      "315\n",
      "322\n",
      "329\n",
      "336\n",
      "343\n",
      "350\n",
      "357\n",
      "364\n",
      "371\n",
      "378\n",
      "385\n",
      "392\n",
      "399\n",
      "406\n",
      "413\n",
      "420\n",
      "427\n",
      "434\n",
      "441\n",
      "448\n",
      "455\n",
      "462\n",
      "469\n",
      "476\n",
      "483\n",
      "490\n",
      "497\n",
      "504\n",
      "511\n",
      "518\n",
      "525\n",
      "532\n",
      "539\n",
      "546\n",
      "553\n",
      "560\n",
      "567\n",
      "574\n",
      "581\n",
      "588\n",
      "595\n",
      "602\n",
      "609\n",
      "616\n",
      "623\n",
      "630\n",
      "637\n",
      "644\n",
      "651\n",
      "658\n",
      "665\n",
      "672\n",
      "679\n",
      "686\n",
      "693\n",
      "700\n",
      "707\n",
      "714\n",
      "721\n",
      "728\n",
      "735\n",
      "742\n",
      "749\n",
      "756\n",
      "763\n",
      "770\n",
      "777\n",
      "784\n",
      "791\n",
      "798\n",
      "805\n",
      "812\n",
      "819\n",
      "826\n",
      "833\n",
      "840\n",
      "847\n",
      "854\n",
      "861\n",
      "868\n",
      "875\n",
      "882\n",
      "889\n",
      "896\n",
      "903\n",
      "910\n",
      "917\n",
      "924\n",
      "931\n",
      "938\n",
      "945\n",
      "952\n",
      "959\n",
      "966\n",
      "973\n",
      "980\n",
      "987\n",
      "994\n"
     ]
    }
   ],
   "source": [
    "divisor = 7\n",
    "\n",
    "for numero in range(0, 1000):\n",
    "    if numero % divisor == 0:\n",
    "        print(numero)"
   ]
  },
  {
   "cell_type": "code",
   "execution_count": null,
   "id": "18fcf858-332e-4858-9b1e-283e2f3801c2",
   "metadata": {},
   "outputs": [],
   "source": [
    "inicio = 0\n",
    "fim = 1000"
   ]
  },
  {
   "cell_type": "code",
   "execution_count": null,
   "id": "37b2845f-30b7-4d2c-9dbd-af503e6735dd",
   "metadata": {},
   "outputs": [],
   "source": [
    "for numero in range(inicio, fim):\n",
    "    if numero % 7 == 0:\n",
    "        print(numero)"
   ]
  },
  {
   "cell_type": "code",
   "execution_count": 59,
   "id": "7ea7b6bb-7d03-41c0-87d5-6b25129ea94e",
   "metadata": {},
   "outputs": [],
   "source": [
    "# variáveis do tipo string\n",
    "nome = 'João da Silva'\n",
    "cidade = 'São Paulo'\n",
    "cpf = '123.456.789-00'"
   ]
  },
  {
   "cell_type": "code",
   "execution_count": 61,
   "id": "ecd8b9fd-47a0-44e7-aaf2-4295f8f778da",
   "metadata": {},
   "outputs": [
    {
     "name": "stdout",
     "output_type": "stream",
     "text": [
      "JOÃO DA SILVA SÃO PAULO\n"
     ]
    }
   ],
   "source": [
    "#Transforme todos os caracteres das variáveis em maiúsculo;\n",
    "\n",
    "nome = nome.upper()\n",
    "cidade = cidade.upper()\n",
    "print(nome, cidade)"
   ]
  },
  {
   "cell_type": "code",
   "execution_count": 63,
   "id": "4bbe0a1b-4f70-4820-8845-ff4f764367db",
   "metadata": {},
   "outputs": [
    {
     "name": "stdout",
     "output_type": "stream",
     "text": [
      "joão da silva são paulo\n"
     ]
    }
   ],
   "source": [
    "# Transforme todos os caracteres das variáveis em minúsculo;\n",
    "\n",
    "nome = nome.lower()\n",
    "cidade = cidade.lower()\n",
    "print(nome, cidade)"
   ]
  },
  {
   "cell_type": "code",
   "execution_count": 73,
   "id": "7f0abccf-9938-4c23-8ad7-496266732939",
   "metadata": {},
   "outputs": [
    {
     "data": {
      "text/plain": [
       "'ã'"
      ]
     },
     "execution_count": 73,
     "metadata": {},
     "output_type": "execute_result"
    }
   ],
   "source": [
    "# Exiba a posição do caractere ã, se presente, em cada uma das variáveis;\n",
    "\n",
    "nome = 'João da Silva'\n",
    "nome [2]"
   ]
  },
  {
   "cell_type": "code",
   "execution_count": 75,
   "id": "8ff806a4-b11b-40fe-b964-c3a43ddf15e3",
   "metadata": {},
   "outputs": [
    {
     "data": {
      "text/plain": [
       "'ã'"
      ]
     },
     "execution_count": 75,
     "metadata": {},
     "output_type": "execute_result"
    }
   ],
   "source": [
    "cidade = 'São Paulo'\n",
    "cidade [1]"
   ]
  },
  {
   "cell_type": "code",
   "execution_count": 80,
   "id": "8b0ab5d6-fb87-4638-81cc-277938fef1cc",
   "metadata": {},
   "outputs": [],
   "source": [
    "# Exiba o número de caracteres de cada variável;\n",
    "\n",
    "nome = 'João da Silva'\n",
    "cidade = 'São Paulo'\n",
    "cpf = '123.456.789-00'\n"
   ]
  },
  {
   "cell_type": "code",
   "execution_count": 86,
   "id": "04f1e118-f010-4ad3-b286-1636b5babd74",
   "metadata": {},
   "outputs": [
    {
     "name": "stdout",
     "output_type": "stream",
     "text": [
      "13\n"
     ]
    }
   ],
   "source": [
    "nome = len(nome)\n",
    "print(nome)"
   ]
  },
  {
   "cell_type": "code",
   "execution_count": 88,
   "id": "f97c9057-2771-4cc1-a688-8a588655cb4b",
   "metadata": {},
   "outputs": [
    {
     "name": "stdout",
     "output_type": "stream",
     "text": [
      "9\n"
     ]
    }
   ],
   "source": [
    "cidade = len(cidade)\n",
    "print(cidade)"
   ]
  },
  {
   "cell_type": "code",
   "execution_count": 90,
   "id": "382e5b08-5f7a-4da1-96bb-2ddb2cfb6a7c",
   "metadata": {},
   "outputs": [
    {
     "name": "stdout",
     "output_type": "stream",
     "text": [
      "14\n"
     ]
    }
   ],
   "source": [
    "cpf = len(cpf)\n",
    "print(cpf)"
   ]
  },
  {
   "cell_type": "code",
   "execution_count": 94,
   "id": "b514095a-1e38-4403-a8b7-1af502fa5e6f",
   "metadata": {},
   "outputs": [
    {
     "name": "stdout",
     "output_type": "stream",
     "text": [
      "12345678900\n"
     ]
    }
   ],
   "source": [
    "# Remova os pontos (.) e o hífen (–) da variável cpf.\n",
    "\n",
    "cpf = '123.456.789-00'\n",
    "cpf = cpf.replace('.', '').replace('-', '')\n",
    "print(cpf)"
   ]
  },
  {
   "cell_type": "code",
   "execution_count": 104,
   "id": "ed29cd83-f912-4546-ab65-b1db25c8e6dd",
   "metadata": {},
   "outputs": [
    {
     "name": "stdout",
     "output_type": "stream",
     "text": [
      "A soma dos números é: 31\n"
     ]
    }
   ],
   "source": [
    "numero = [1,2,7,9,5,7]\n",
    "\n",
    "soma = sum(numero)\n",
    "print(\"A soma dos números é:\", soma)"
   ]
  },
  {
   "cell_type": "code",
   "execution_count": 106,
   "id": "b507a42f-9a9f-4d54-ad4b-9a99a2313296",
   "metadata": {},
   "outputs": [
    {
     "name": "stdout",
     "output_type": "stream",
     "text": [
      "1\n",
      "2\n",
      "7\n",
      "9\n",
      "5\n",
      "7\n"
     ]
    }
   ],
   "source": [
    "numero = '127957'\n",
    "\n",
    "for caractere in numero:\n",
    "    print(caractere)"
   ]
  },
  {
   "cell_type": "code",
   "execution_count": null,
   "id": "5aebd157-1108-49f8-96ab-f754f82793eb",
   "metadata": {},
   "outputs": [],
   "source": []
  }
 ],
 "metadata": {
  "kernelspec": {
   "display_name": "anaconda-2022.05-py39",
   "language": "python",
   "name": "conda-env-anaconda-2022.05-py39-py"
  },
  "language_info": {
   "codemirror_mode": {
    "name": "ipython",
    "version": 3
   },
   "file_extension": ".py",
   "mimetype": "text/x-python",
   "name": "python",
   "nbconvert_exporter": "python",
   "pygments_lexer": "ipython3",
   "version": "3.9.12"
  }
 },
 "nbformat": 4,
 "nbformat_minor": 5
}
