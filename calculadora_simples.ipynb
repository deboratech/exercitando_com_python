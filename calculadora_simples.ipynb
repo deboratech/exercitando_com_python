{
 "cells": [
  {
   "cell_type": "code",
   "execution_count": 1,
   "id": "5f67a17f-473d-49b1-8b7b-e15380dac264",
   "metadata": {},
   "outputs": [
    {
     "name": "stdout",
     "output_type": "stream",
     "text": [
      "Olá, mundo. Me chamo Débora\n"
     ]
    }
   ],
   "source": [
    "print('Olá, mundo. Me chamo Débora')"
   ]
  },
  {
   "cell_type": "raw",
   "id": "f91d8a5d-ea00-41c2-b426-a997a9ff7b5c",
   "metadata": {},
   "source": [
    "# Pseudocódigo 1 - Calcular a Área de um Paralelograma"
   ]
  },
  {
   "cell_type": "raw",
   "id": "698a6fd2-e20d-4ad2-a4fc-b696a521f175",
   "metadata": {},
   "source": [
    "Inicie\n",
    "\n",
    "    Exiba ''Bem-vindo ao Calculador de Área de Paralelograma''\n",
    "    Peça para o usuário inserir o comprimento da base\n",
    "    Armazene o comprimento da base em uma variável\n",
    "    Peça para o usuário inserir a altura\n",
    "    Armazene a altura da variável\n",
    "    Calcula a área do paralelograma base * altura\n",
    "    Armazene o resultado em uma variável\n",
    "    Exiba o resultado\n",
    "    \n",
    "Fim"
   ]
  },
  {
   "cell_type": "raw",
   "id": "d221016e-13c8-471c-8f1b-ad1c6312e941",
   "metadata": {},
   "source": [
    "Convertendo o Pseudocódigo 1 em Programa Python"
   ]
  },
  {
   "cell_type": "code",
   "execution_count": 2,
   "id": "dc7db331-0c26-4716-a610-e3e57e3bc93d",
   "metadata": {},
   "outputs": [
    {
     "name": "stdout",
     "output_type": "stream",
     "text": [
      "Bem-vindo ao Calculador e Área de Paralelograma\n"
     ]
    }
   ],
   "source": [
    "print('Bem-vindo ao Calculador e Área de Paralelograma')"
   ]
  },
  {
   "cell_type": "code",
   "execution_count": 3,
   "id": "d72aef11-f4e8-46fe-a714-9fc3529a4fb3",
   "metadata": {},
   "outputs": [
    {
     "name": "stdin",
     "output_type": "stream",
     "text": [
      "Insira o comprimento da base: 8\n"
     ]
    }
   ],
   "source": [
    "base = float(input('Insira o comprimento da base:'))"
   ]
  },
  {
   "cell_type": "code",
   "execution_count": 4,
   "id": "5dd317b1-fb83-472a-99e3-fc9cb6f1afc0",
   "metadata": {},
   "outputs": [
    {
     "name": "stdin",
     "output_type": "stream",
     "text": [
      "Insira o comprimento da altura: 10\n"
     ]
    }
   ],
   "source": [
    "altura = float(input('Insira o comprimento da altura:'))"
   ]
  },
  {
   "cell_type": "code",
   "execution_count": 5,
   "id": "fe39ac52-4ef7-406d-bce7-216b89c37d9d",
   "metadata": {},
   "outputs": [],
   "source": [
    "area = base * altura"
   ]
  },
  {
   "cell_type": "code",
   "execution_count": 6,
   "id": "a0903bc1-a5e9-4ed7-b944-503d18274a1d",
   "metadata": {},
   "outputs": [
    {
     "name": "stdout",
     "output_type": "stream",
     "text": [
      "A área do paralelograma é:  80.0\n"
     ]
    }
   ],
   "source": [
    "print('A área do paralelograma é: ', area)"
   ]
  },
  {
   "cell_type": "raw",
   "id": "a7a9e3ac-7e73-4424-a6d0-18c41bc22111",
   "metadata": {},
   "source": [
    "# Pseudocódigo 2 - Calculadora Simples"
   ]
  },
  {
   "cell_type": "raw",
   "id": "0a74c16e-da81-4db4-a19a-1425d9c14795",
   "metadata": {},
   "source": [
    "Inicie\n",
    "\n",
    "   Exiba ''Bem-vindo à Calculadora''\n",
    "   Peça para o usuário inserir o primeiro número\n",
    "   Armazene o primeiro número em uma variável\n",
    "   Peça para o usuário inserir o segundo número\n",
    "   Armazene o segundo número em uma variável\n",
    "   Peça para o usário selecionar um operação (+, -, *, /)\n",
    "   Armazene a operação em uma variável\n",
    "   Utilize a operação selecionada e os números armazenados para realizar o cálculo\n",
    "   Exiba o resultado\n",
    "   \n",
    "Fim"
   ]
  },
  {
   "cell_type": "code",
   "execution_count": 7,
   "id": "84c17e13-21b3-478c-a0d0-ca5c2be69a8d",
   "metadata": {
    "tags": []
   },
   "outputs": [
    {
     "name": "stdout",
     "output_type": "stream",
     "text": [
      "Bem-vindo à Calculadora\n"
     ]
    }
   ],
   "source": [
    "print ('Bem-vindo à Calculadora')\n"
   ]
  },
  {
   "cell_type": "code",
   "execution_count": 8,
   "id": "c69d266f-d262-46ac-98bf-9f6e9e3b1e14",
   "metadata": {},
   "outputs": [
    {
     "name": "stdin",
     "output_type": "stream",
     "text": [
      "Insira o primeiro número: 24\n"
     ]
    }
   ],
   "source": [
    "num1 = float(input ('Insira o primeiro número:'))"
   ]
  },
  {
   "cell_type": "code",
   "execution_count": 9,
   "id": "62d96c20-1d18-4424-8357-20cc5b63a995",
   "metadata": {},
   "outputs": [
    {
     "name": "stdin",
     "output_type": "stream",
     "text": [
      "Insira o segundo número: 38\n"
     ]
    }
   ],
   "source": [
    "num2 = float(input ('Insira o segundo número:'))"
   ]
  },
  {
   "cell_type": "code",
   "execution_count": 10,
   "id": "a593066e-b7a7-4500-92d6-fa8f238f8878",
   "metadata": {},
   "outputs": [
    {
     "name": "stdin",
     "output_type": "stream",
     "text": [
      "Selecione uma operação (+, -, *, /): *\n"
     ]
    }
   ],
   "source": [
    "operacao = input('Selecione uma operação (+, -, *, /):')"
   ]
  },
  {
   "cell_type": "code",
   "execution_count": 11,
   "id": "8312f3ad-4c80-4fd2-b801-3e9262bb4559",
   "metadata": {},
   "outputs": [
    {
     "name": "stdout",
     "output_type": "stream",
     "text": [
      "O resultado é:  912.0\n"
     ]
    }
   ],
   "source": [
    "if operacao == '+':\n",
    "    resultado = num1 + num2\n",
    "    print('O resultado é: ', resultado)\n",
    "\n",
    "elif operacao == '-':\n",
    "    resultado = num1 - num2\n",
    "    print('O resultado é: ', resultado)\n",
    "    \n",
    "elif operacao == '*':\n",
    "    resultado = num1 * num2\n",
    "    print('O resultado é: ', resultado)\n",
    "    \n",
    "elif operacao == '/':\n",
    "    resultado = num1 / num2\n",
    "    print('O resultado é: ', resultado)\n",
    "\n",
    "else:\n",
    "    print('Operação Inválida')"
   ]
  },
  {
   "cell_type": "raw",
   "id": "8362c751-4cfd-41b0-96fd-2d36f64cd2e5",
   "metadata": {},
   "source": [
    "# Pseudocódigo 3 - Algoritmo Bubble Sort"
   ]
  },
  {
   "cell_type": "code",
   "execution_count": 12,
   "id": "8bd50147-c6a6-48b4-9f21-d993615565fe",
   "metadata": {},
   "outputs": [],
   "source": [
    "lista = [1,5,8,9,10,14,15,18,19,13,21,22,28,23,29,24]"
   ]
  },
  {
   "cell_type": "code",
   "execution_count": 13,
   "id": "854e3b96-7260-4c1e-850c-08e87c85b0ca",
   "metadata": {},
   "outputs": [],
   "source": [
    "def bubble_sort(arr):\n",
    "    n = len(arr)\n",
    "    \n",
    "    #Para cada elemento i do array\n",
    "    for i in range(n):\n",
    "        \n",
    "        #Para cada elemento j do array\n",
    "        for j in range(0, n-i-1):\n",
    "            \n",
    "            #Se o elemento i for maior que elemento j\n",
    "            if arr[j] > arr[j+1]:\n",
    "                \n",
    "                #Troque os elementos i e j \n",
    "                arr[j], arr[j+1] = arr[j+1], arr[j]\n",
    "                \n",
    "\n",
    "    return arr"
   ]
  },
  {
   "cell_type": "code",
   "execution_count": 14,
   "id": "ea2c38e2-9400-4c39-88f2-769c01574b89",
   "metadata": {},
   "outputs": [
    {
     "name": "stdout",
     "output_type": "stream",
     "text": [
      "[1, 5, 8, 9, 10, 13, 14, 15, 18, 19, 21, 22, 23, 24, 28, 29]\n"
     ]
    }
   ],
   "source": [
    "print(bubble_sort(lista))"
   ]
  },
  {
   "cell_type": "code",
   "execution_count": 15,
   "id": "2d37d61d-9685-490e-8c1d-6bd56848d8f3",
   "metadata": {},
   "outputs": [],
   "source": [
    "### FIM"
   ]
  }
 ],
 "metadata": {
  "kernelspec": {
   "display_name": "anaconda-panel-2023.05-py310",
   "language": "python",
   "name": "conda-env-anaconda-panel-2023.05-py310-py"
  },
  "language_info": {
   "codemirror_mode": {
    "name": "ipython",
    "version": 3
   },
   "file_extension": ".py",
   "mimetype": "text/x-python",
   "name": "python",
   "nbconvert_exporter": "python",
   "pygments_lexer": "ipython3",
   "version": "3.11.4"
  }
 },
 "nbformat": 4,
 "nbformat_minor": 5
}
