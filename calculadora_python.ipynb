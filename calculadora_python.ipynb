{
 "cells": [
  {
   "cell_type": "code",
   "execution_count": 1,
   "id": "fa855e2b-6229-4d24-b5c4-5eb30d8620ae",
   "metadata": {
    "tags": []
   },
   "outputs": [
    {
     "name": "stdout",
     "output_type": "stream",
     "text": [
      "Versão da Linguagem Python Usada Neste Jupyter Notebook: 3.9.12\n"
     ]
    }
   ],
   "source": [
    "# Versão da Linguagem Python\n",
    "from platform import python_version\n",
    "print('Versão da Linguagem Python Usada Neste Jupyter Notebook:', python_version())"
   ]
  },
  {
   "cell_type": "markdown",
   "id": "c5e6e713-f0a6-473d-b487-f3221f66664e",
   "metadata": {},
   "source": [
    "# Calculadora Python"
   ]
  },
  {
   "cell_type": "code",
   "execution_count": 14,
   "id": "144147e4-a96f-4307-9972-a61b9b4fbca4",
   "metadata": {},
   "outputs": [
    {
     "name": "stdout",
     "output_type": "stream",
     "text": [
      "Insira a operação:\n",
      "1. Adição\n",
      "2. Subtração\n",
      "3. Multiplicação\n",
      "4. Divisão\n"
     ]
    },
    {
     "name": "stdin",
     "output_type": "stream",
     "text": [
      "Escolha o número da operação 4\n",
      "Insira o primeiro número: 6\n",
      "Insira o segundo número: 0\n"
     ]
    },
    {
     "name": "stdout",
     "output_type": "stream",
     "text": [
      "ERRO: divisão por zero\n"
     ]
    }
   ],
   "source": [
    "def calculadora():\n",
    "    print('Insira a operação:')\n",
    "    print('1. Adição')\n",
    "    print('2. Subtração')\n",
    "    print('3. Multiplicação')\n",
    "    print('4. Divisão')\n",
    "     \n",
    "    operacao = input('Escolha o número da operação')\n",
    "    \n",
    "    if operacao in ('1', '2', '3', '4'):\n",
    "        num1 = float(input('Insira o primeiro número:'))\n",
    "        num2 = float(input('Insira o segundo número:'))\n",
    "        \n",
    "        if operacao == '1':\n",
    "            resultado = num1 + num2\n",
    "            print('O resultado é:', resultado)\n",
    "        elif operacao == '2':\n",
    "            resultado = num1 - num2\n",
    "            print('O resultado é:', resultado)\n",
    "        elif operacao == '3':\n",
    "            resultado = num1 * num2\n",
    "            print('O resultado é:', resultado)\n",
    "        elif operacao == '4':\n",
    "            if num2 != 0:\n",
    "                resultado = num1 / num2\n",
    "                print('O resultado é:', resultado)\n",
    "            else:\n",
    "                print('ERRO: divisão por zero')\n",
    "    else:\n",
    "        print('Operação Inválida')\n",
    "\n",
    "calculadora()\n",
    "\n"
   ]
  },
  {
   "cell_type": "code",
   "execution_count": null,
   "id": "f062a91f-d017-489d-9b10-e6ea9968cb1a",
   "metadata": {},
   "outputs": [],
   "source": []
  }
 ],
 "metadata": {
  "kernelspec": {
   "display_name": "anaconda-2022.05-py39",
   "language": "python",
   "name": "conda-env-anaconda-2022.05-py39-py"
  },
  "language_info": {
   "codemirror_mode": {
    "name": "ipython",
    "version": 3
   },
   "file_extension": ".py",
   "mimetype": "text/x-python",
   "name": "python",
   "nbconvert_exporter": "python",
   "pygments_lexer": "ipython3",
   "version": "3.9.12"
  }
 },
 "nbformat": 4,
 "nbformat_minor": 5
}
