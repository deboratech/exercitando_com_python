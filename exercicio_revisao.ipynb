{
  "nbformat": 4,
  "nbformat_minor": 0,
  "metadata": {
    "colab": {
      "provenance": [],
      "authorship_tag": "ABX9TyNhduYbYAE9mDI5wGrU9lsE",
      "include_colab_link": true
    },
    "kernelspec": {
      "name": "python3",
      "display_name": "Python 3"
    },
    "language_info": {
      "name": "python"
    }
  },
  "cells": [
    {
      "cell_type": "markdown",
      "metadata": {
        "id": "view-in-github",
        "colab_type": "text"
      },
      "source": [
        "<a href=\"https://colab.research.google.com/github/deboratech/exercitando_com_python/blob/main/exercicio_revisao.ipynb\" target=\"_parent\"><img src=\"https://colab.research.google.com/assets/colab-badge.svg\" alt=\"Open In Colab\"/></a>"
      ]
    },
    {
      "cell_type": "markdown",
      "source": [
        "Escreva um programa que receba seu nome, sua idade, hobby e escreva uma única sentença que seja, por exemplo, \"Meu nome é Renata, tenho 22 anos e meu hobby é viajar\""
      ],
      "metadata": {
        "id": "sqnEWn-Cybkh"
      }
    },
    {
      "cell_type": "code",
      "source": [
        "nome = ('Débora')\n",
        "idade = (28)\n",
        "hobby = ('Treinar')\n",
        "\n",
        "print('Meu nome é', nome, 'tenho', idade, 'anos e meu hobby é', hobby)"
      ],
      "metadata": {
        "colab": {
          "base_uri": "https://localhost:8080/"
        },
        "id": "_CRykzS7ycsV",
        "outputId": "0abfbcbb-7811-4e44-af3c-380a92532e3d"
      },
      "execution_count": null,
      "outputs": [
        {
          "output_type": "stream",
          "name": "stdout",
          "text": [
            "Meu nome é Débora tenho 28 anos e meu hobby é Treinar\n"
          ]
        }
      ]
    },
    {
      "cell_type": "code",
      "source": [
        "nome = input('Qual seu nome? ')\n",
        "idade = int(input('Qual sua idade? '))\n",
        "hobby = input('Qual seu hobby? ')\n",
        "\n",
        "print(f'Meu nome é {nome} tenho {idade} anos e meu hobby é {hobby}')"
      ],
      "metadata": {
        "colab": {
          "base_uri": "https://localhost:8080/"
        },
        "id": "Iapsv_Sh0grW",
        "outputId": "fc63e35e-e1b6-4049-82f3-192d16c2f83a"
      },
      "execution_count": null,
      "outputs": [
        {
          "output_type": "stream",
          "name": "stdout",
          "text": [
            "Qual seu nome? debora\n",
            "Qual sua idade? 28\n",
            "Qual seu hobby? treinar\n",
            "Meu nome é debora tenho 28 anos e meu hobby é treinar\n"
          ]
        }
      ]
    },
    {
      "cell_type": "markdown",
      "source": [
        "Com tudo que vimos até o momento faça um programa que solicite ao usuário que insira seu ano de nascimento. Desconsiderando o mês do ano de nascimento, emita uma mensagem dizendo quantos anos ele possui."
      ],
      "metadata": {
        "id": "213hUEiM23OE"
      }
    },
    {
      "cell_type": "code",
      "source": [
        "ano = int(input('Digite seu ano de nascimento'))\n",
        "ano_atual = 2023\n",
        "\n",
        "idade = ano_atual - ano\n",
        "print(f'Sua idade é {idade} anos ;)')"
      ],
      "metadata": {
        "colab": {
          "base_uri": "https://localhost:8080/"
        },
        "id": "JRB1doJz24fP",
        "outputId": "e2952502-49d8-4976-dfab-3b8aa6cea88a"
      },
      "execution_count": null,
      "outputs": [
        {
          "output_type": "stream",
          "name": "stdout",
          "text": [
            "Digite seu ano de nascimento1995\n",
            "Sua idade é 28 anos ;)\n"
          ]
        }
      ]
    },
    {
      "cell_type": "markdown",
      "source": [
        "Imagine que você está implementando um sistema para verificar se os alunos de uma turma estudantil passaram na disciplina ou não. Para isso solicite que o usuário insira as notas das 4 provas realizadas por um estudante e calcule a média. Após isso, emita uma resposta booleana (True ou False) se o estudante passou na disciplina pensando que a média mínima para aprovação é que seja pelo menos 5.\\\\"
      ],
      "metadata": {
        "id": "XIszyVyQ4j4G"
      }
    },
    {
      "cell_type": "code",
      "source": [
        "nota1 = float(input('Insira nota1: '))\n",
        "nota2 = float(input('Insira nota2: '))\n",
        "nota3 = float(input('Insira nota3: '))\n",
        "nota4 = float(input('Insira nota4: '))\n",
        "\n",
        "media = (nota1 + nota2 + nota3 + nota4 / 4)\n",
        "\n",
        "if media >= 5:\n",
        "  print('Aluno aprovado!')\n",
        "\n",
        "else:\n",
        "    print('Aluno reprovado!')"
      ],
      "metadata": {
        "colab": {
          "base_uri": "https://localhost:8080/"
        },
        "id": "I6Fdmh8p4lyo",
        "outputId": "45f1d45b-e56c-4383-c7e4-b807a0b74c7b"
      },
      "execution_count": null,
      "outputs": [
        {
          "output_type": "stream",
          "name": "stdout",
          "text": [
            "Insira nota1: 9\n",
            "Insira nota2: 9\n",
            "Insira nota3: 9\n",
            "Insira nota4: 8\n",
            "Aluno aprovado!\n"
          ]
        }
      ]
    },
    {
      "cell_type": "markdown",
      "source": [
        "Crie um algoritmo que calcule o IMC (índice de massa corporal). O IMC é calculado com a formula PESO/(ALTURA ^ 2). Para isso, coloque as informações nas variáveis e ao final apresente o resultado como no exemplo: \"O IMC é 18\"\n",
        "\n"
      ],
      "metadata": {
        "id": "Z-kn29QS4wcV"
      }
    },
    {
      "cell_type": "code",
      "source": [
        "peso = float(input('Insira seu peso: '))\n",
        "altura = float(input('Insira sua altura: '))\n",
        "\n",
        "imc = (peso / altura**2)\n",
        "\n",
        "print(f'Seu IMC é {imc}')"
      ],
      "metadata": {
        "colab": {
          "base_uri": "https://localhost:8080/"
        },
        "id": "mpJuQ3FY44F6",
        "outputId": "567beaf1-0b12-4544-abba-d3aa4931b55e"
      },
      "execution_count": null,
      "outputs": [
        {
          "output_type": "stream",
          "name": "stdout",
          "text": [
            "Insira seu peso: 53\n",
            "Insira sua altura: 1.63\n",
            "Seu IMC é 19.94805976890361\n"
          ]
        }
      ]
    },
    {
      "cell_type": "markdown",
      "source": [
        "Escreva um algoritmo que calcule (x + y) * (x + y). Os valores de x e y devem ser inseridos pelo usuário\n",
        "\n",
        "\n",
        "\n",
        "\n",
        "\n"
      ],
      "metadata": {
        "id": "-7RkjjvV4xSq"
      }
    },
    {
      "cell_type": "code",
      "source": [
        "x = float(input('Insira o valor de x: '))\n",
        "y= float(input('Insira o valor de y: '))\n",
        "\n",
        "valor = (x + y) * (x + y)\n",
        "\n",
        "print(f'O valor do algoritmo é: {valor}')"
      ],
      "metadata": {
        "colab": {
          "base_uri": "https://localhost:8080/"
        },
        "id": "6eqkG70f41FP",
        "outputId": "eef3600c-4f43-47e7-871b-49bc97b6e08f"
      },
      "execution_count": null,
      "outputs": [
        {
          "output_type": "stream",
          "name": "stdout",
          "text": [
            "Insira o valor de x: 77\n",
            "Insira o valor de y: 88\n",
            "O valor do algoritmo é: 27225.0\n"
          ]
        }
      ]
    },
    {
      "cell_type": "markdown",
      "source": [
        "Escreva um programa que solicite um número inteiro e imprima na tela todos os números de 1 até o número digitado, separado por espaços.\n",
        "\n",
        "\n",
        "\n"
      ],
      "metadata": {
        "id": "BrLnl6uLAsyk"
      }
    },
    {
      "cell_type": "code",
      "source": [
        "numero = int(input('Insira um número: '))\n",
        "i = 1\n",
        "\n",
        "while i <= numero:\n",
        "    print(i, end=\" \")\n",
        "    i += 1"
      ],
      "metadata": {
        "colab": {
          "base_uri": "https://localhost:8080/"
        },
        "id": "yvngX1KUAtxS",
        "outputId": "ec14cbc9-dbcf-4362-f10a-66549e8b103c"
      },
      "execution_count": 3,
      "outputs": [
        {
          "output_type": "stream",
          "name": "stdout",
          "text": [
            "Insira um número: 9\n",
            "1 2 3 4 5 6 7 8 9 "
          ]
        }
      ]
    },
    {
      "cell_type": "code",
      "source": [
        "numero = int(input('Insira um número: '))\n",
        "for i in range(1, numero + 1):\n",
        "    print(i, end=\" \")"
      ],
      "metadata": {
        "colab": {
          "base_uri": "https://localhost:8080/"
        },
        "id": "TC7yHvCQCvTX",
        "outputId": "09aa6bec-39ca-40b3-a1dd-fc51e39e221f"
      },
      "execution_count": null,
      "outputs": [
        {
          "output_type": "stream",
          "name": "stdout",
          "text": [
            "Insira um número: 9\n",
            "1 2 3 4 5 6 7 8 9 "
          ]
        }
      ]
    },
    {
      "cell_type": "markdown",
      "source": [
        "Faça um programa que peça um número e mostre se ele é positivo ou negativo. Alternativa: acrescentar nulo\n",
        "\n"
      ],
      "metadata": {
        "id": "EwqhFSatG-j_"
      }
    },
    {
      "cell_type": "code",
      "source": [
        "numero= float(input('Insira um número: '))\n",
        "if numero > 0:\n",
        "  print('Esse número é positivo')\n",
        "elif numero < 0:\n",
        "  print('Esse número é negativo')\n",
        "else:\n",
        "  print('Esse número é nulo')"
      ],
      "metadata": {
        "colab": {
          "base_uri": "https://localhost:8080/"
        },
        "id": "zMuTQ_VkHr8s",
        "outputId": "4005f616-bd53-450c-d303-eee355b4c73c"
      },
      "execution_count": null,
      "outputs": [
        {
          "output_type": "stream",
          "name": "stdout",
          "text": [
            "Insira um número: -1\n",
            "Esse número é negativo\n"
          ]
        }
      ]
    },
    {
      "cell_type": "markdown",
      "source": [
        "Faça um programa que peça dois números e mostre o maior deles.\n",
        "\n"
      ],
      "metadata": {
        "id": "jWnMYiTMHshX"
      }
    },
    {
      "cell_type": "code",
      "source": [
        "n1 = float(input('Insira o primeiro número: '))\n",
        "n2 = float(input('Insira o segundo número: '))\n",
        "\n",
        "if n1 > n2:\n",
        "  print('O primeiro número é maior que o segundo!')\n",
        "elif n1 < n2:\n",
        "  print('O segundo número é maior que o primeiro!')\n",
        "else:\n",
        "  print('Os números possuem o mesmo valor!')"
      ],
      "metadata": {
        "colab": {
          "base_uri": "https://localhost:8080/"
        },
        "id": "7U9DP4FfIfmN",
        "outputId": "b4a79e1e-0233-4251-d268-cffc5e01c268"
      },
      "execution_count": null,
      "outputs": [
        {
          "output_type": "stream",
          "name": "stdout",
          "text": [
            "Insira o primeiro número: 10\n",
            "Insira o segundo número: 24\n",
            "O segundo número é maior que o primeiro!\n"
          ]
        }
      ]
    },
    {
      "cell_type": "markdown",
      "source": [
        "Faça um programa que peça a idade do usuário e imprima se ele é maior ou menor de 18 anos."
      ],
      "metadata": {
        "id": "Ma0LRS2AkmO4"
      }
    },
    {
      "cell_type": "code",
      "source": [
        "idade = int(input('Insira sua idade: '))\n",
        "\n",
        "if idade >= 18:\n",
        "  print('Você é maior de idade!')\n",
        "else:\n",
        "  print('Você é menor de idade!')"
      ],
      "metadata": {
        "colab": {
          "base_uri": "https://localhost:8080/"
        },
        "id": "r0jPgvZZk_Pb",
        "outputId": "05e53616-d0f1-4b44-e943-4d869a59115b"
      },
      "execution_count": null,
      "outputs": [
        {
          "output_type": "stream",
          "name": "stdout",
          "text": [
            "Insira sua idade: 17\n",
            "Você é menor de idade!\n"
          ]
        }
      ]
    },
    {
      "cell_type": "markdown",
      "source": [
        "Faça um programa que leia a validade das informações:\n",
        "\n",
        "a. Idade: entre 0 e 150;\n",
        "\n",
        "b. Salário: maior que 0;\n",
        "\n",
        "c. Sexo: M, F ou Outro;\n",
        "\n",
        "O programa deve imprimir uma mensagem de erro para cada informação inválida."
      ],
      "metadata": {
        "id": "1H9l6pHVk_xz"
      }
    },
    {
      "cell_type": "code",
      "source": [
        "idade = int(input('Insira  sua idade: '))\n",
        "\n",
        "if idade <= 150:\n",
        "  print('Idade válida! ;) ')\n",
        "else:\n",
        "  print('Idade inválida! :( ')\n",
        "\n",
        "salario = float(input('Insira seu salário: '))\n",
        "\n",
        "if salario > 0:\n",
        "  print('Salário válido! ;) ')\n",
        "else:\n",
        "  print('Salário inválido! :( ')\n",
        "\n",
        "sexo = input('Qual sexo você se indentifica: M, F ou Outros? ')\n",
        "\n",
        "if sexo.capitalize() == 'M' or sexo.capitalize() == 'F' or sexo.capitalize() == 'Outros':\n",
        "  print('Sexo válido! ;) ')\n",
        "else:\n",
        "  print('Sexo inválido! :( ')\n",
        "\n"
      ],
      "metadata": {
        "colab": {
          "base_uri": "https://localhost:8080/"
        },
        "id": "xFkjNMQelKKl",
        "outputId": "1c3d3bbc-cada-4159-c43b-5fa1d1ef85d7"
      },
      "execution_count": null,
      "outputs": [
        {
          "output_type": "stream",
          "name": "stdout",
          "text": [
            "Insira  sua idade: 45\n",
            "Idade válida! ;) \n",
            "Insira seu salário: 10000\n",
            "Salário válido! ;) \n",
            "Qual sexo você se indentifica: M, F ou Outros? f\n",
            "Sexo válido! ;) \n"
          ]
        }
      ]
    },
    {
      "cell_type": "markdown",
      "source": [
        "Escreva um programa que peça a nota de 3 provas de um aluno e verifique se ele passou ou não de ano.\n",
        "Obs.: O aluno irá passar de ano se sua média for maior que 6."
      ],
      "metadata": {
        "id": "yUxW7qBUlLB6"
      }
    },
    {
      "cell_type": "code",
      "source": [
        "nota1 = float(input('Insira a nota 1: '))\n",
        "nota2 = float(input('Insira a nota 2: '))\n",
        "nota3 = float(input('Insira a nota 3: '))\n",
        "\n",
        "media = (nota1 + nota2 + nota3 / 3)\n",
        "\n",
        "if media >= 6:\n",
        "  print('Aluno aprovado!')\n",
        "else:\n",
        "  print('Aluno reprovado! ')\n"
      ],
      "metadata": {
        "colab": {
          "base_uri": "https://localhost:8080/"
        },
        "id": "385xO30NlRKy",
        "outputId": "aa2d61b4-567e-4125-cb14-00b1fe74f2d0"
      },
      "execution_count": null,
      "outputs": [
        {
          "output_type": "stream",
          "name": "stdout",
          "text": [
            "Insira a nota 1: 8\n",
            "Insira a nota 2: 8\n",
            "Insira a nota 3: 8\n",
            "Aluno aprovado!\n"
          ]
        }
      ]
    },
    {
      "cell_type": "markdown",
      "source": [
        "Faça um programa que mostre uma questão de múltipla escolha com 5 opções (letras a, b, c, d, e).\n"
      ],
      "metadata": {
        "id": "STihFecOlRo8"
      }
    },
    {
      "cell_type": "code",
      "source": [
        "print('Questão 1\\nTeste\\nA\\nB\\nC\\nD\\nE')\n",
        "\n",
        "questao = input('Digite ao lado qual é a alternativa correta: ')\n",
        "questao = questao.upper()\n",
        "resposta = 'B'\n",
        "print(f'A alternativa escolhida pelo usuário é {questao}')\n",
        "\n",
        "if questao == resposta:\n",
        "    print('Você acertou!')\n",
        "else:\n",
        "    print('Você errou!')\n",
        "\n"
      ],
      "metadata": {
        "colab": {
          "base_uri": "https://localhost:8080/"
        },
        "id": "8SU0UmgMlUne",
        "outputId": "03aa9463-76dd-487b-aacf-bd63c71458b2"
      },
      "execution_count": null,
      "outputs": [
        {
          "output_type": "stream",
          "name": "stdout",
          "text": [
            "Questão 1\n",
            "Teste\n",
            "A\n",
            "B\n",
            "C\n",
            "D\n",
            "E\n",
            "Digite ao lado qual é a alternativa correta: d\n",
            "A alternativa escolhida pelo usuário é D\n",
            "Você errou!\n"
          ]
        }
      ]
    },
    {
      "cell_type": "markdown",
      "source": [
        "Vamos fazer um programa para verificar quem é o assassino de um crime. Para descobrir o assassino, a polícia faz um pequeno questionário com 5 perguntas onde a resposta só pode ser sim ou não:\n",
        "\n",
        "a. Mora perto da vítima?\n",
        "\n",
        "b. Já trabalhou com a vítima?\n",
        "\n",
        "c. Telefonou para a vítima?\n",
        "\n",
        "d. Esteve no local do crime?\n",
        "\n",
        "e. Devia para a vítima?\n",
        "\n",
        "Cada resposta sim dá um ponto para o suspeito. A polícia considera que os suspeitos com 5 pontos são os assassinos, com 4 a 3 pontos são cúmplices e 2 pontos são apenas suspeitos, necessitando outras investigações. Valores iguais ou abaixo de 1 são liberados."
      ],
      "metadata": {
        "id": "OKwgMm_SlVHu"
      }
    },
    {
      "cell_type": "code",
      "source": [
        "print('Para cada pergunta responda Sim ou Não')\n",
        "\n",
        "resp_a = input('Mora perto da vítima? ')\n",
        "resp_b = input('Já trabalhou com a vítima? ')\n",
        "resp_c = input('Telefonou para a vítima? ')\n",
        "resp_d = input('Esteve no local do crime? ')\n",
        "resp_e = input('Devia para a vítima? ')\n",
        "\n",
        "pontos = 0\n",
        "\n",
        "if resp_a == 'Sim':\n",
        "  pontos = pontos + 1\n",
        "if resp_b == 'Sim':\n",
        "  pontos = pontos + 1\n",
        "if resp_c == 'Sim':\n",
        "  pontos = pontos + 1\n",
        "if resp_d == 'Sim':\n",
        "  pontos = pontos + 1\n",
        "if resp_e == 'Sim':\n",
        "  pontos = pontos + 1\n",
        "\n",
        "if pontos == 5:\n",
        "  print('A pessoa em questão é a assassina')\n",
        "elif pontos == 4:\n",
        "  print('A pessoa é muito cúmplice')\n",
        "elif pontos == 3:\n",
        "  print('A pessoa é suspeita')\n",
        "else:\n",
        "  print('Pessoa liberada')"
      ],
      "metadata": {
        "colab": {
          "base_uri": "https://localhost:8080/"
        },
        "id": "w3VjTrHtlevv",
        "outputId": "012834f0-9f4d-4a42-b90f-f5345cd1e176"
      },
      "execution_count": null,
      "outputs": [
        {
          "output_type": "stream",
          "name": "stdout",
          "text": [
            "Para cada pergunta responda Sim ou Não\n",
            "Mora perto da vítima? sim\n",
            "Já trabalhou com a vítima? nao\n",
            "Telefonou para a vítima? sim\n",
            "Esteve no local do crime? nao\n",
            "Devia para a vítima? nao\n",
            "Pessoa liberada\n"
          ]
        }
      ]
    },
    {
      "cell_type": "markdown",
      "source": [
        "Um produto vai sofrer aumento de acordo com a Tabela 1 abaixo. Faça um programa que peça para o usuário digitar o valor do produto de acordo\n",
        "com o preço antigo e escreva uma das mensagens da Tabela 2, de acordo com o preço reajustado:\n",
        "\n",
        "Tabela 1\n",
        "\n",
        "Preço Antigo\t% de aumento\n",
        "Até 50 reais\t5%\n",
        "Entre 50 e 100 reais\t10%\n",
        "De 100 a 150 reais\t13%\n",
        "Acima de 150 reais\t15%\n",
        "Tabela 2\n",
        "\n",
        "Preço Novo\tMensagem\n",
        "Até 80 reais\tBarato\n",
        "Entre 80 e 115 reais\tRazoável\n",
        "Entre 115 e 150 reais\tNormal\n",
        "Entre 150 e 170 reais\tCaro\n",
        "Acima de 170 reais\tMuito Caro"
      ],
      "metadata": {
        "id": "abQC8N5Klfjw"
      }
    },
    {
      "cell_type": "code",
      "source": [
        "preco = float(input(\"Digite o preço antigo do produto: \"))\n",
        "\n",
        "if preco < 50:\n",
        "    preco_atual = preco * 1.05\n",
        "elif 50 <= preco < 100:\n",
        "    preco_atual = preco * 1.1\n",
        "elif 100 <= preco < 150:\n",
        "    preco_atual = preco * 1.13\n",
        "else:\n",
        "    preco_atual = preco * 1.15\n",
        "\n",
        "if preco_atual <= 80:\n",
        "    print(\"Barato\")\n",
        "elif preco_atual <= 115:\n",
        "    print(\"Razoável\")\n",
        "elif preco_atual <= 150:\n",
        "    print(\"Normal\")\n",
        "elif preco_atual <= 170:\n",
        "    print(\"Caro\")\n",
        "else:\n",
        "    print(\"Muito caro\")"
      ],
      "metadata": {
        "colab": {
          "base_uri": "https://localhost:8080/"
        },
        "id": "U5Xb3vExlpl6",
        "outputId": "ad51d3c7-7ff7-4da5-8d15-f6cc4d835c82"
      },
      "execution_count": null,
      "outputs": [
        {
          "output_type": "stream",
          "name": "stdout",
          "text": [
            "Digite o preço antigo do produto: 45\n",
            "Barato\n"
          ]
        }
      ]
    },
    {
      "cell_type": "markdown",
      "source": [
        "Faça um programa que leia 3 números e informe o maior deles.*texto em itálico*"
      ],
      "metadata": {
        "id": "DLjnE0Wflqma"
      }
    },
    {
      "cell_type": "code",
      "source": [
        "n1 = float(input('Insira o primeiro número: '))\n",
        "n2= float(input('Insira o segundo número: '))\n",
        "n3= float(input('Insira o terceiro número: '))\n",
        "\n",
        "if n1 > n2 and n1 > n3:\n",
        "  print('O primeiro número é o maior! ')\n",
        "\n",
        "elif n2 > n1 and n2> n3:\n",
        "  print('O segundo número é o maior! ')\n",
        "\n",
        "elif n3 > n1 and n3 > n2:\n",
        "  print('O terceiro número é o maior! ')\n",
        "\n",
        "else:\n",
        "  print('Digite números diferentes! ')"
      ],
      "metadata": {
        "colab": {
          "base_uri": "https://localhost:8080/"
        },
        "id": "c16czH1GlvB3",
        "outputId": "bbc41d40-9ac9-40d4-c5af-958d1c97a984"
      },
      "execution_count": null,
      "outputs": [
        {
          "output_type": "stream",
          "name": "stdout",
          "text": [
            "Insira o primeiro número: 8\n",
            "Insira o segundo número: 9\n",
            "Insira o terceiro número: 10\n",
            "O terceiro número é o maior! \n"
          ]
        }
      ]
    },
    {
      "cell_type": "code",
      "source": [
        "n1 = float(input('Insira o primeiro número: '))\n",
        "n2 = float(input('Insira o segundo número: '))\n",
        "n3 = float(input('Insira o terceiro número: '))\n",
        "\n",
        "maior_numero = max(n1, n2, n3)\n",
        "\n",
        "print(f'O maior número entre {n1}, {n2} e {n3} é: {maior_numero}')"
      ],
      "metadata": {
        "colab": {
          "base_uri": "https://localhost:8080/"
        },
        "id": "d3SRA-Sh2XFD",
        "outputId": "ba51ea3a-4973-4876-a20c-711f0140d320"
      },
      "execution_count": null,
      "outputs": [
        {
          "output_type": "stream",
          "name": "stdout",
          "text": [
            "Insira o primeiro número: 34\n",
            "Insira o segundo número: 34\n",
            "Insira o terceiro número: 34\n",
            "O maior número entre 34.0, 34.0 e 34.0 é: 34.0\n"
          ]
        }
      ]
    },
    {
      "cell_type": "markdown",
      "source": [
        "Faça um programa que mostre o fatorial de um número digitado."
      ],
      "metadata": {
        "id": "Bg8rQW4u-6CB"
      }
    },
    {
      "cell_type": "code",
      "source": [
        "numero = int(input('Digite um número inteiro e positivo: '))\n",
        "\n",
        "fat = 1\n",
        "\n",
        "for i in range(1, numero + 1):\n",
        "  fat *= i\n",
        "\n",
        "print(f'O fatorial de {numero} é: {fat}')\n"
      ],
      "metadata": {
        "colab": {
          "base_uri": "https://localhost:8080/"
        },
        "id": "ojzRjZOM--Pg",
        "outputId": "0f0daa64-5ea4-482a-dbec-3d0c61ee214f"
      },
      "execution_count": null,
      "outputs": [
        {
          "output_type": "stream",
          "name": "stdout",
          "text": [
            "Digite um número inteiro e positivo: 5\n",
            "O fatorial de 5 é: 120\n"
          ]
        }
      ]
    },
    {
      "cell_type": "code",
      "source": [
        "numero = int(input('Digite um número inteiro positivo: '))\n",
        "fatorial = 1\n",
        "\n",
        "while numero > 0:\n",
        "    fatorial = fatorial * numero\n",
        "    numero = numero - 1\n",
        "\n",
        "print(fatorial)"
      ],
      "metadata": {
        "colab": {
          "base_uri": "https://localhost:8080/"
        },
        "id": "7ykHXMSmA8Yv",
        "outputId": "6be6b63c-f059-4744-cdf5-3c5a425e45c5"
      },
      "execution_count": null,
      "outputs": [
        {
          "output_type": "stream",
          "name": "stdout",
          "text": [
            "Digite um número inteiro positivo: 5\n",
            "120\n"
          ]
        }
      ]
    },
    {
      "cell_type": "markdown",
      "source": [
        "Faça um programa que imprima a tabuada do 9 na tela (entre 1 e 10). Insira a conta, por exemplo, 9 * 1 = 9, sendo cada um dos valores em uma linha diferente."
      ],
      "metadata": {
        "id": "s0vw4HA8--yb"
      }
    },
    {
      "cell_type": "code",
      "source": [
        "i = 1\n",
        "\n",
        "while i <= 10:\n",
        "    mult = i * 9\n",
        "    print(f\"{i} * 9 = {mult}\")\n",
        "    i += 1"
      ],
      "metadata": {
        "colab": {
          "base_uri": "https://localhost:8080/"
        },
        "id": "l8TSCmYZDVtl",
        "outputId": "53b7106c-4198-4386-b493-b8e7440222b6"
      },
      "execution_count": null,
      "outputs": [
        {
          "output_type": "stream",
          "name": "stdout",
          "text": [
            "1 * 9 = 9\n",
            "2 * 9 = 18\n",
            "3 * 9 = 27\n",
            "4 * 9 = 36\n",
            "5 * 9 = 45\n",
            "6 * 9 = 54\n",
            "7 * 9 = 63\n",
            "8 * 9 = 72\n",
            "9 * 9 = 81\n",
            "10 * 9 = 90\n"
          ]
        }
      ]
    },
    {
      "cell_type": "code",
      "source": [
        "numero = 9\n",
        "\n",
        "for i in range(1, 11):\n",
        "    resultado = numero * i\n",
        "    print(f'{numero} * {i} = {resultado}')"
      ],
      "metadata": {
        "colab": {
          "base_uri": "https://localhost:8080/"
        },
        "id": "x0XJCKnKEI1A",
        "outputId": "4e2d34b0-d333-4dbf-8a21-eb11c6f51733"
      },
      "execution_count": null,
      "outputs": [
        {
          "output_type": "stream",
          "name": "stdout",
          "text": [
            "9 * 1 = 9\n",
            "9 * 2 = 18\n",
            "9 * 3 = 27\n",
            "9 * 4 = 36\n",
            "9 * 5 = 45\n",
            "9 * 6 = 54\n",
            "9 * 7 = 63\n",
            "9 * 8 = 72\n",
            "9 * 9 = 81\n",
            "9 * 10 = 90\n"
          ]
        }
      ]
    },
    {
      "cell_type": "markdown",
      "source": [
        "Faça um programa em que o usuário digite números quaisquer e encerrará no momento em que o valor 0 seja digitado. Ao final diga qual foi o maior número digitado."
      ],
      "metadata": {
        "id": "j7QUNl2x_CkB"
      }
    },
    {
      "cell_type": "code",
      "source": [
        "numero = int(input(\"Digite um numero: \"))\n",
        "\n",
        "maior = numero\n",
        "\n",
        "while (numero != 0):\n",
        "    numero = int(input(\"Digite um novo numero ou 0 para encerrar: \"))\n",
        "    if (numero > maior):\n",
        "        maior = numero\n",
        "print(f\"O maior valor digitado foi {maior}\")\n"
      ],
      "metadata": {
        "colab": {
          "base_uri": "https://localhost:8080/"
        },
        "id": "z4enkoPa_HMt",
        "outputId": "aa766eb3-e811-43d9-8482-8b1d2cb00120"
      },
      "execution_count": null,
      "outputs": [
        {
          "output_type": "stream",
          "name": "stdout",
          "text": [
            "Digite um numero: 6\n",
            "Digite um novo numero ou 0 para encerrar: 8\n",
            "Digite um novo numero ou 0 para encerrar: 9\n",
            "Digite um novo numero ou 0 para encerrar: 7\n",
            "Digite um novo numero ou 0 para encerrar: 13\n",
            "Digite um novo numero ou 0 para encerrar: 155\n",
            "Digite um novo numero ou 0 para encerrar: 0\n",
            "O maior valor digitado foi 155\n"
          ]
        }
      ]
    },
    {
      "cell_type": "markdown",
      "source": [
        "Faça uma calculadora. O usuário deve inserir qual a operação matemática ele deseja realizar e logo em seguida os dois números. O programa deve finalizar apenas quando o usuário digitar a opção \"sair\" no momento de escolha da operação matemática."
      ],
      "metadata": {
        "id": "3JjYCp0Q_IGv"
      }
    },
    {
      "cell_type": "code",
      "source": [
        "print ('Bem-vindo à Calculadora')\n",
        "\n",
        "\n",
        "operacao = input('Selecione uma operação (+, -, *, /):')\n",
        "\n",
        "num1 = float(input ('Insira o primeiro número:'))\n",
        "num2 = float(input ('Insira o segundo número:'))\n",
        "\n",
        "if operacao == '+':\n",
        "    resultado = num1 + num2\n",
        "    print('O resultado é: ', resultado)\n",
        "\n",
        "elif operacao == '-':\n",
        "    resultado = num1 - num2\n",
        "    print('O resultado é: ', resultado)\n",
        "\n",
        "elif operacao == '*':\n",
        "    resultado = num1 * num2\n",
        "    print('O resultado é: ', resultado)\n",
        "\n",
        "elif operacao == '/':\n",
        "    resultado = num1 / num2\n",
        "    print('O resultado é: ', resultado)\n",
        "\n",
        "else:\n",
        "    print('Operação Inválida')\n"
      ],
      "metadata": {
        "colab": {
          "base_uri": "https://localhost:8080/"
        },
        "id": "xQP5N76EID3i",
        "outputId": "4910d641-61db-4366-c5ae-18a0b205f2b3"
      },
      "execution_count": null,
      "outputs": [
        {
          "output_type": "stream",
          "name": "stdout",
          "text": [
            "Bem-vindo à Calculadora\n",
            "Selecione uma operação (+, -, *, /):/\n",
            "Insira o primeiro número:6\n",
            "Insira o segundo número:6\n",
            "O resultado é:  1.0\n"
          ]
        }
      ]
    },
    {
      "cell_type": "code",
      "source": [
        "operacao = ''\n",
        "\n",
        "while operacao != 'sair':\n",
        "    operacao = input(\n",
        "        'A = Adição\\nS = Subtração\\nM = Multiplicação\\nD = Divisão\\nDigite a operação desejada: '\n",
        "    )\n",
        "    operacao = operacao.lower()\n",
        "    if operacao in [\"a\", \"s\", \"m\", \"d\"]:\n",
        "        num1 = float(input(\"Digite o primeiro número: \"))\n",
        "        num2 = float(input(\"Digite o segundo número: \"))\n",
        "        if operacao == \"a\":\n",
        "            print(f\"{num1} + {num2} = {num1+num2}\")\n",
        "        elif operacao == \"s\":\n",
        "            print(f\"{num1} - {num2} = {num1-num2}\")\n",
        "        elif operacao == \"m\":\n",
        "            print(f\"{num1} * {num2} = {num1*num2}\")\n",
        "        elif num2 == 0:\n",
        "            print('Não é possível dividir por zero!')\n",
        "        else:\n",
        "            print(f\"{num1} / {num2} = {num1/num2}\")\n",
        "    elif operacao != 'sair':\n",
        "        print(\"operação inválida!\")\n",
        "print('\\nPrograma finalizado :)')"
      ],
      "metadata": {
        "colab": {
          "base_uri": "https://localhost:8080/"
        },
        "id": "FYcTMpxNJRjX",
        "outputId": "381e3ceb-daab-4375-9536-b45b987e8373"
      },
      "execution_count": null,
      "outputs": [
        {
          "output_type": "stream",
          "name": "stdout",
          "text": [
            "A = Adição\n",
            "S = Subtração\n",
            "M = Multiplicação\n",
            "D = Divisão\n",
            "Digite a operação desejada: A\n",
            "Digite o primeiro número: 6\n",
            "Digite o segundo número: 6\n",
            "6.0 + 6.0 = 12.0\n",
            "A = Adição\n",
            "S = Subtração\n",
            "M = Multiplicação\n",
            "D = Divisão\n",
            "Digite a operação desejada: E\n",
            "operação inválida!\n",
            "A = Adição\n",
            "S = Subtração\n",
            "M = Multiplicação\n",
            "D = Divisão\n",
            "Digite a operação desejada: sair\n",
            "\n",
            "Programa finalizado :)\n"
          ]
        }
      ]
    },
    {
      "cell_type": "markdown",
      "source": [
        "Crie uma lista qualquer e faça um programa que imprima cada elemento da lista usando o for."
      ],
      "metadata": {
        "id": "S8iWOuaNrmRf"
      }
    },
    {
      "cell_type": "code",
      "source": [
        "lista_frutas = ['Morango', 'Banana', 'Uva', 'Manga']\n",
        "\n",
        "for i in lista_frutas:\n",
        "    print(i)"
      ],
      "metadata": {
        "colab": {
          "base_uri": "https://localhost:8080/"
        },
        "id": "RRHFcZ88rm2o",
        "outputId": "542d9fec-3bf9-4992-f9e2-aca00be873f4"
      },
      "execution_count": null,
      "outputs": [
        {
          "output_type": "stream",
          "name": "stdout",
          "text": [
            "Morango\n",
            "Banana\n",
            "Uva\n",
            "Manga\n"
          ]
        }
      ]
    },
    {
      "cell_type": "markdown",
      "source": [
        "Faça um programa que imprima todos os itens de uma lista usando while e compare com o exercício 1."
      ],
      "metadata": {
        "id": "44nhoQHXsPDw"
      }
    },
    {
      "cell_type": "code",
      "source": [
        "lista_frutas = ['Morango', 'Banana', 'Uva', 'Manga']\n",
        "\n",
        "indice = 0\n",
        "while indice < len(lista_frutas):\n",
        "    print(f'Item: {lista_frutas[indice]}')\n",
        "    indice = indice + 1"
      ],
      "metadata": {
        "colab": {
          "base_uri": "https://localhost:8080/"
        },
        "id": "T4Z5IjqNsPjw",
        "outputId": "8f7ec3f3-b9ae-414b-f580-053f46f12ed0"
      },
      "execution_count": null,
      "outputs": [
        {
          "output_type": "stream",
          "name": "stdout",
          "text": [
            "Item: Morango\n",
            "Item: Banana\n",
            "Item: Uva\n",
            "Item: Manga\n"
          ]
        }
      ]
    },
    {
      "cell_type": "markdown",
      "source": [
        "Faça um programa que peça para o usuário digitar um número n e imprima uma lista com todos os números de 0 a n-1."
      ],
      "metadata": {
        "id": "V32Y1oaDsQAs"
      }
    },
    {
      "cell_type": "code",
      "source": [
        "n = int(input('Insira um número = '))\n",
        "\n",
        "lista = list(range(n))\n",
        "print(lista)\n"
      ],
      "metadata": {
        "colab": {
          "base_uri": "https://localhost:8080/"
        },
        "id": "6MEqHsiasQbq",
        "outputId": "14c7627b-d9b9-4c3b-edf1-06f2124ad11b"
      },
      "execution_count": null,
      "outputs": [
        {
          "output_type": "stream",
          "name": "stdout",
          "text": [
            "Insira um número = 10\n",
            "[0, 1, 2, 3, 4, 5, 6, 7, 8, 9]\n"
          ]
        }
      ]
    },
    {
      "cell_type": "markdown",
      "source": [
        "Faça um programa que olhe todos os itens de uma lista e diga quantos deles são pares."
      ],
      "metadata": {
        "id": "VWWYmYzwsQ5z"
      }
    },
    {
      "cell_type": "code",
      "source": [
        "lista = [1, 2, 3, 4, 5, 6, 7, 8, 9, 10]\n",
        "\n",
        "pares = 0\n",
        "\n",
        "for elemento in lista:\n",
        "  if elemento % 2 == 0:\n",
        "      pares += 1\n",
        "print(pares)"
      ],
      "metadata": {
        "colab": {
          "base_uri": "https://localhost:8080/"
        },
        "id": "vWjNrZ_-sRZp",
        "outputId": "5f95ab76-b03d-4afe-e783-649a9a67b375"
      },
      "execution_count": null,
      "outputs": [
        {
          "output_type": "stream",
          "name": "stdout",
          "text": [
            "5\n"
          ]
        }
      ]
    },
    {
      "cell_type": "code",
      "source": [
        "lista = [1, 3, 4, 5, 6, 7, 8, 9, 10, 12]\n",
        "pares = []\n",
        "\n",
        "for elemento in lista:\n",
        "    if elemento % 2 == 0:\n",
        "        pares.append(elemento)\n",
        "\n",
        "print(f\"Existem {len(pares)} números pares na sua lista\")\n",
        "print(pares)"
      ],
      "metadata": {
        "colab": {
          "base_uri": "https://localhost:8080/"
        },
        "id": "hXssOAgd0DCW",
        "outputId": "bcc443fd-e905-4d33-ffb3-8ce2dbdb4afa"
      },
      "execution_count": null,
      "outputs": [
        {
          "output_type": "stream",
          "name": "stdout",
          "text": [
            "Existem 5 números pares na sua lista\n",
            "[4, 6, 8, 10, 12]\n"
          ]
        }
      ]
    },
    {
      "cell_type": "markdown",
      "source": [
        "Faça um programa que imprima o maior número de uma lista, sem usar o método max()"
      ],
      "metadata": {
        "id": "oVmy484KsR29"
      }
    },
    {
      "cell_type": "code",
      "source": [
        "lista = [12, 3, 4, 5, 6, 7, 8, 9, 10, 1]\n",
        "\n",
        "sorted(lista)[-1]\n"
      ],
      "metadata": {
        "colab": {
          "base_uri": "https://localhost:8080/"
        },
        "id": "Qt0JqTmDsSSk",
        "outputId": "e057e95d-5e63-473e-e388-ab37b1760a87"
      },
      "execution_count": null,
      "outputs": [
        {
          "output_type": "execute_result",
          "data": {
            "text/plain": [
              "12"
            ]
          },
          "metadata": {},
          "execution_count": 18
        }
      ]
    },
    {
      "cell_type": "markdown",
      "source": [
        "Agora usando o método max() faça um programa que imprima os três maiores números de uma lista."
      ],
      "metadata": {
        "id": "xYchn2UvsSwA"
      }
    },
    {
      "cell_type": "code",
      "source": [
        "lista = [1, 4, -8, 12, 3, -5, 2, -14, 6]\n",
        "\n",
        "for i in range(3):\n",
        "    maior_numero = max(lista)\n",
        "    print(maior_numero)\n",
        "    lista.remove(maior_numero)"
      ],
      "metadata": {
        "colab": {
          "base_uri": "https://localhost:8080/"
        },
        "id": "claXmNajsTvt",
        "outputId": "1b44abe6-d3a2-486c-ddce-523f4b63fec2"
      },
      "execution_count": null,
      "outputs": [
        {
          "output_type": "stream",
          "name": "stdout",
          "text": [
            "12\n",
            "6\n",
            "4\n"
          ]
        }
      ]
    },
    {
      "cell_type": "markdown",
      "source": [
        "Faça um programa que, dadas duas listas de mesmo tamanho, crie uma nova lista com cada elemento igual a soma dos elementos da lista 1 com os da lista 2, na mesma posição."
      ],
      "metadata": {
        "id": "tyPJSKdUsUPh"
      }
    },
    {
      "cell_type": "code",
      "source": [
        "lista1 = [1,4,5]\n",
        "lista2 = [2,2,3]\n",
        "lista3 = []\n",
        "\n",
        "if len(lista1) != len(lista2):\n",
        "    print(\"As listas tem tamanhos diferentes!\")\n",
        "else:\n",
        "    for i in range(len(lista1)):\n",
        "        valor = lista1[i] + lista2[i]\n",
        "        lista3.append(valor)\n",
        "    print(lista3)"
      ],
      "metadata": {
        "colab": {
          "base_uri": "https://localhost:8080/"
        },
        "id": "IoktvJGXsUtu",
        "outputId": "a26a4b25-4b6a-49cd-848e-11b089e6a9c5"
      },
      "execution_count": null,
      "outputs": [
        {
          "output_type": "stream",
          "name": "stdout",
          "text": [
            "[3, 6, 8]\n"
          ]
        }
      ]
    },
    {
      "cell_type": "markdown",
      "source": [
        "Faça um programa que dadas duas listas de mesmo tamanho, imprima o produto escalar entre elas."
      ],
      "metadata": {
        "id": "8jGy0EqYsVIa"
      }
    },
    {
      "cell_type": "code",
      "source": [
        "lista1 = [1, 4, 5]\n",
        "lista2 = [2, 2, 3]\n",
        "soma = 0\n",
        "\n",
        "for i in range(len(lista1)):\n",
        "    soma = soma + lista1[i]*lista2[i]\n",
        "print(soma)"
      ],
      "metadata": {
        "colab": {
          "base_uri": "https://localhost:8080/"
        },
        "id": "bCrgZ9zKsVkS",
        "outputId": "9030052e-ad5c-45c4-84ef-397c21f4caca"
      },
      "execution_count": null,
      "outputs": [
        {
          "output_type": "stream",
          "name": "stdout",
          "text": [
            "25\n"
          ]
        }
      ]
    },
    {
      "cell_type": "markdown",
      "source": [
        "Faça um programa que pede para o usuário digitar 5 números e, ao final, imprime uma lista com os 5 números digitados pelo usuário (sem converter os números para int ou float)."
      ],
      "metadata": {
        "id": "z6j_O4ISsWGu"
      }
    },
    {
      "cell_type": "code",
      "source": [
        "lista = []\n",
        "for i in range(5):\n",
        "    num = input(\"Digite um número: \")\n",
        "    lista.append(num)\n",
        "print(lista)"
      ],
      "metadata": {
        "colab": {
          "base_uri": "https://localhost:8080/"
        },
        "id": "Yx4PKS8JsWfH",
        "outputId": "63bedd1f-5ad7-4f78-d8bb-dcadca94e738"
      },
      "execution_count": null,
      "outputs": [
        {
          "output_type": "stream",
          "name": "stdout",
          "text": [
            "Digite um número: 80\n",
            "Digite um número: 77\n",
            "Digite um número: 44\n",
            "Digite um número: 666\n",
            "Digite um número: 333\n",
            "['80', '77', '44', '666', '333']\n"
          ]
        }
      ]
    },
    {
      "cell_type": "markdown",
      "source": [
        "Pegue a lista gerada no exercício anterior e transforme cada um dos itens dessa lista em um float."
      ],
      "metadata": {
        "id": "2E-zFlAqtD-5"
      }
    },
    {
      "cell_type": "code",
      "source": [
        "for i in range(len(lista)):\n",
        "    lista[i] = float(lista[i])\n",
        "\n",
        "print(lista)"
      ],
      "metadata": {
        "colab": {
          "base_uri": "https://localhost:8080/"
        },
        "id": "pH1fnqB-tEby",
        "outputId": "5f42d8c1-cd24-4978-8b3d-4263e632f0ca"
      },
      "execution_count": null,
      "outputs": [
        {
          "output_type": "stream",
          "name": "stdout",
          "text": [
            "[80.0, 77.0, 44.0, 666.0, 333.0]\n"
          ]
        }
      ]
    },
    {
      "cell_type": "markdown",
      "source": [
        "Faça um Programa que peça as 4 notas bimestrais e mostre a média, usando listas."
      ],
      "metadata": {
        "id": "tO5Al6zqtE7T"
      }
    },
    {
      "cell_type": "code",
      "source": [
        "lista = []\n",
        "\n",
        "for i in range(4):\n",
        "    nota = float(input(\"Digite a nota: \"))\n",
        "    lista.append(nota)\n",
        "print(sum(lista) / len(lista))"
      ],
      "metadata": {
        "colab": {
          "base_uri": "https://localhost:8080/"
        },
        "id": "IPQ3-7U_tFdD",
        "outputId": "1b9b1165-aad8-4dcd-ff58-cfbd53199e82"
      },
      "execution_count": null,
      "outputs": [
        {
          "output_type": "stream",
          "name": "stdout",
          "text": [
            "Digite a nota: 8\n",
            "Digite a nota: 8\n",
            "Digite a nota: 8\n",
            "Digite a nota: 8\n",
            "8.0\n"
          ]
        }
      ]
    },
    {
      "cell_type": "markdown",
      "source": [
        "\n",
        "Um parque de diversões tem 3 atrações principais: o carrossel, piscina de bolinhas e montanha\u0002russa.\n",
        "Para poder participar de uma atração a pessoa deve cumprir as seguintes condições:\n",
        "Carrossel: altura mínima de 1,00m e idade mínima de 3 anos.\n",
        "Piscina de bolinhas: idade entre 4 e 9 anos e máximo de 1,30m de altura.\n",
        "Montanha-russa: altura mínima de 1,10m.\n",
        "O fiscal de cada atração verificará o ano de nascimento da pessoa e altura para liberar o acesso\n",
        "para uma pessoa.\n",
        "Faça uma função em python que receba o ano de nascimento e altura da pessoa e informe\n",
        "quais as atrações que a pessoa pode participar."
      ],
      "metadata": {
        "id": "xYnNQ9wYtF8F"
      }
    },
    {
      "cell_type": "code",
      "source": [
        "print ('Bem-vindo(a) ao parque!')\n",
        "\n",
        "altura = float(input('Insira sua altura: '))\n",
        "ano_nascimento = int(input('Insira o ano em que nasceu: '))\n",
        "\n",
        "idade = 2023 - ano_nascimento\n",
        "\n",
        "if altura >= 1.10 and idade >= 3:\n",
        "  print('Divirta-se no Carrossel!')\n",
        "else:\n",
        "  print('Infelizmente você não pode brincar no Carrossel!')\n",
        "\n",
        "altura = float(input('Insira sua altura: '))\n",
        "ano_nascimento= int(input('Insira o ano em que nasceu: '))\n",
        "\n",
        "idade = 2023 - ano_nascimento\n",
        "\n",
        "if altura >= 1.30 and idade >= 4:\n",
        "  print('Divirta-se na Piscina de Bolinha!')\n",
        "else:\n",
        "  print('Infelizmente você não pode brincar na Piscina de Bolinhas!')\n",
        "\n",
        "altura = float(input('Insira sua altura: '))\n",
        "\n",
        "idade = 2023 - ano_nascimento\n",
        "\n",
        "\n",
        "if altura >= 1.10:\n",
        "  print('Divirta-se na Montanha-Russa!')\n",
        "else:\n",
        "  print('Infelizmente você não pode brincar na Monta-Russa')"
      ],
      "metadata": {
        "colab": {
          "base_uri": "https://localhost:8080/"
        },
        "id": "MHp_2K0YtGY5",
        "outputId": "cbae2e05-8c02-4966-d391-80ba2d969cd2"
      },
      "execution_count": null,
      "outputs": [
        {
          "output_type": "stream",
          "name": "stdout",
          "text": [
            "Bem-vindo(a) ao parque!\n",
            "Insira sua altura: 1.10\n",
            "Insira o ano em que nasceu: 2022\n",
            "Infelizmente você não pode brincar no Carrossel!\n",
            "Insira sua altura: 1.30\n",
            "Insira o ano em que nasceu: 1995\n",
            "Divirta-se na Piscina de Bolinha!\n",
            "Insira sua altura: 1.10\n",
            "Divirta-se na Montanha-Russa!\n"
          ]
        }
      ]
    },
    {
      "cell_type": "markdown",
      "source": [
        "Dado um número fornecido pelo usuário, faça um programa que teste se é número primo e\n",
        "imprima na tela. Além disso, exiba uma lista de divisores do número testado. Um número primo\n",
        "é divisível somente por 1 e por ele mesmo. Seu programa deve ser funcional para qualquer\n",
        "número até o 100.\n",
        "13 é divisível somente por 1 e ele mesmo (13), então é primo.\n",
        "25 é divisível por 1, 5 e ele mesmo (25), então NÃO é primo."
      ],
      "metadata": {
        "id": "loX9u0SgGG38"
      }
    },
    {
      "cell_type": "code",
      "source": [
        "numero = int(input(\"Digite um número (até 100): \"))\n",
        "\n",
        "if numero > 1:\n",
        "    divisores = []\n",
        "\n",
        "    for i in range(1, numero + 1):\n",
        "        if numero % i == 0:\n",
        "            divisores.append(i)\n",
        "\n",
        "    print(f\"Lista de divisores de {numero}: {divisores}\")\n",
        "\n",
        "    if len(divisores) == 2:\n",
        "        print(f\"{numero} é um número primo.\")\n",
        "    else:\n",
        "        print(f\"{numero} não é um número primo.\")\n",
        "else:\n",
        "    print(f\"{numero} não é um número primo.\")\n",
        "\n"
      ],
      "metadata": {
        "colab": {
          "base_uri": "https://localhost:8080/"
        },
        "id": "4h1f3ePpGHwH",
        "outputId": "ff4c70d5-b39d-40f2-e347-18df7dfadcfc"
      },
      "execution_count": null,
      "outputs": [
        {
          "output_type": "stream",
          "name": "stdout",
          "text": [
            "Digite um número (até 100): 99\n",
            "Lista de divisores de 99: [1, 3, 9, 11, 33, 99]\n",
            "99 não é um número primo.\n"
          ]
        }
      ]
    },
    {
      "cell_type": "markdown",
      "source": [
        "\n",
        "Faça um script que leia 10 números do usuário e informe se algum número foi inserido em\n",
        "sequência. Se mais de um número for repetido, informe ao menos um (caso no Exemplo 3)."
      ],
      "metadata": {
        "id": "d2nh9-h9GIcU"
      }
    },
    {
      "cell_type": "code",
      "source": [
        "numeros = []\n",
        "\n",
        "for _ in range(10):\n",
        "    numero = int(input(\"Digite um número: \"))\n",
        "    numeros.append(numero)\n",
        "\n",
        "tem_sequencia = False\n",
        "\n",
        "for i in range(len(numeros) - 1):\n",
        "    if numeros[i] == numeros[i + 1]:\n",
        "        tem_sequencia = True\n",
        "        break\n",
        "\n",
        "if tem_sequencia:\n",
        "    print(\"Pelo menos um número foi inserido em sequência.\")\n",
        "else:\n",
        "    print(\"Nenhum número foi inserido em sequência.\")\n"
      ],
      "metadata": {
        "colab": {
          "base_uri": "https://localhost:8080/"
        },
        "id": "FHlrL_EVGJax",
        "outputId": "c5727a6c-6c53-49b2-8035-46753f82a1bb"
      },
      "execution_count": null,
      "outputs": [
        {
          "output_type": "stream",
          "name": "stdout",
          "text": [
            "Digite um número: 3\n",
            "Digite um número: 5\n",
            "Digite um número: 6\n",
            "Digite um número: 7\n",
            "Digite um número: 4\n",
            "Digite um número: 5\n",
            "Digite um número: 6\n",
            "Digite um número: 44\n",
            "Digite um número: 6\n",
            "Digite um número: 7\n",
            "Nenhum número foi inserido em sequência.\n"
          ]
        }
      ]
    }
  ]
}