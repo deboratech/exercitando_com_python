{
 "cells": [
  {
   "cell_type": "raw",
   "id": "32a14267-0407-4110-91b3-6eeb5d698d41",
   "metadata": {},
   "source": [
    "Exercícios"
   ]
  },
  {
   "cell_type": "raw",
   "id": "faddf538-0162-4540-b998-24c0dc88f36d",
   "metadata": {},
   "source": [
    "# 1 - Imprima na tela os números de 1 a 10. Use uma lista para armazenar os números."
   ]
  },
  {
   "cell_type": "code",
   "execution_count": 59,
   "id": "30100601-70f7-4a4a-93d5-ff736370c249",
   "metadata": {},
   "outputs": [
    {
     "name": "stdout",
     "output_type": "stream",
     "text": [
      "[1, 2, 3, 4, 5, 6, 7, 8, 9, 10]\n"
     ]
    }
   ],
   "source": [
    "list = [1,2,3,4,5,6,7,8,9,10]\n",
    "print(list)"
   ]
  },
  {
   "cell_type": "raw",
   "id": "b81d0539-b2f6-4aa6-94bb-91f0c056401c",
   "metadata": {},
   "source": [
    "# 2 - Crie uma lista de 5 objetos e imprima na tela"
   ]
  },
  {
   "cell_type": "code",
   "execution_count": 61,
   "id": "f19c0270-222c-401b-a1c5-cf8debfe7dbf",
   "metadata": {},
   "outputs": [
    {
     "name": "stdout",
     "output_type": "stream",
     "text": [
      "['Japao', 'EUA', 'Italia', 'Monaco', 'Suica']\n"
     ]
    }
   ],
   "source": [
    "list = ['Japao', 'EUA', 'Italia', 'Monaco', 'Suica']\n",
    "print(list)"
   ]
  },
  {
   "cell_type": "raw",
   "id": "860453f1-455a-47ae-a193-807cd9d1ea09",
   "metadata": {},
   "source": [
    "# 3 - Crie duas strings e concatene as duas em uma terceira string"
   ]
  },
  {
   "cell_type": "code",
   "execution_count": 26,
   "id": "e7a6b4d2-6ad7-4ee1-988c-3c18a3e63e75",
   "metadata": {},
   "outputs": [
    {
     "name": "stdout",
     "output_type": "stream",
     "text": [
      "Lana Del Rey\n"
     ]
    }
   ],
   "source": [
    "nome = \"Lana\"\n",
    "sobrenome = \"Del Rey\"\n",
    "fullname = nome + \" \" + sobrenome\n",
    "print(fullname)"
   ]
  },
  {
   "cell_type": "raw",
   "id": "70b7e13f-202f-4770-b74f-74bea3424c7c",
   "metadata": {},
   "source": [
    "# 4 - Crie uma tupla com os seguintes elementos: 1, 2, 2, 3, 4, 4, 4, 5 e depois utilize a função count do \n",
    "# objeto tupla para verificar quantas vezes o número 4 aparece na tupla\n"
   ]
  },
  {
   "cell_type": "code",
   "execution_count": 34,
   "id": "f099a7d2-7d6a-459c-b3cc-5effd6db88f6",
   "metadata": {},
   "outputs": [
    {
     "name": "stdout",
     "output_type": "stream",
     "text": [
      "O número quatro aparece 3 vezes na tupla\n"
     ]
    }
   ],
   "source": [
    "tupla = (1,2, 2, 3, 4, 4, 4, 5)\n",
    "quantidade_de_quatro = tupla.count(4)\n",
    "print(\"O número quatro aparece\", quantidade_de_quatro, \"vezes na tupla\")"
   ]
  },
  {
   "cell_type": "raw",
   "id": "9fff7e70-22b9-485b-af47-862008138bbe",
   "metadata": {},
   "source": [
    "# 5 - Crie um dicionário vazio e imprima na tela"
   ]
  },
  {
   "cell_type": "code",
   "execution_count": 28,
   "id": "faa803f3-eef2-42b9-81f1-7c65208a2c52",
   "metadata": {},
   "outputs": [
    {
     "data": {
      "text/plain": [
       "{}"
      ]
     },
     "execution_count": 28,
     "metadata": {},
     "output_type": "execute_result"
    }
   ],
   "source": [
    "{}"
   ]
  },
  {
   "cell_type": "raw",
   "id": "13c7148a-de8f-49a9-9201-3dd55173123b",
   "metadata": {},
   "source": [
    "# 6 - Crie um dicionário com 3 chaves e 3 valores e imprima na tela"
   ]
  },
  {
   "cell_type": "code",
   "execution_count": 63,
   "id": "d2189948-bd24-4313-abbf-79c6f2442e69",
   "metadata": {},
   "outputs": [
    {
     "name": "stdout",
     "output_type": "stream",
     "text": [
      "{'Engenhria': '10', 'Biologia': '9.4', 'Física': '9.7'}\n"
     ]
    }
   ],
   "source": [
    "dic = {\"Engenhria\":\"10\", \"Biologia\":\"9.4\", \"Física\":\"9.7\"}\n",
    "print(dic)"
   ]
  },
  {
   "cell_type": "raw",
   "id": "f7e8809f-490e-4b6e-979e-8e0d3f92359b",
   "metadata": {},
   "source": [
    "# 7 - Adicione mais um elemento ao dicionário criado no exercício anterior e imprima na tela"
   ]
  },
  {
   "cell_type": "code",
   "execution_count": 45,
   "id": "1e8e00cd-6713-46e3-83fa-a324c105667a",
   "metadata": {},
   "outputs": [
    {
     "name": "stdout",
     "output_type": "stream",
     "text": [
      "{'Engenharia': '10', 'Biologia': '9.4', 'Física': '9.7', 'Psicologia': '9.9'}\n"
     ]
    }
   ],
   "source": [
    "dic = {\"Engenharia\":\"10\", \"Biologia\":\"9.4\", \"Física\":\"9.7\", \"Psicologia\": \"9.9\"}\n",
    "print(dic)"
   ]
  },
  {
   "cell_type": "raw",
   "id": "e34ff9c3-8204-47f8-9629-404eae71118c",
   "metadata": {},
   "source": [
    "# 8 - Crie um dicionário com 3 chaves e 3 valores. \n",
    "# Um dos valores deve ser uma lista de 2 elementos numéricos. \n",
    "# Imprima o dicionário na tela."
   ]
  },
  {
   "cell_type": "code",
   "execution_count": 49,
   "id": "8edcd338-3d46-4403-ac1c-a40bea14be02",
   "metadata": {},
   "outputs": [
    {
     "name": "stdout",
     "output_type": "stream",
     "text": [
      "{'Água': '2', 'Picolé': [2, 3], 'Água de Coco': '4'}\n"
     ]
    }
   ],
   "source": [
    "dic = {\"Água\": \"2\", \"Picolé\": [2,3], \"Água de Coco\": \"4\"}\n",
    "print(dic)"
   ]
  },
  {
   "cell_type": "raw",
   "id": "956d2e55-4de3-42e2-b76c-967634e2f46f",
   "metadata": {},
   "source": [
    "# 9 - Crie uma lista de 4 elementos. O primeiro elemento deve ser uma string, \n",
    "# o segundo uma tupla de 2 elementos, o terceiro um dicionário com 2 chaves e 2 valores e \n",
    "# o quarto elemento um valor do tipo float.\n",
    "# Imprima a lista."
   ]
  },
  {
   "cell_type": "code",
   "execution_count": 57,
   "id": "3ba14a5f-a858-4a4c-bbde-e4d6fadd8ede",
   "metadata": {},
   "outputs": [
    {
     "name": "stdout",
     "output_type": "stream",
     "text": [
      "['Maverick', ('v8', 'v10'), {'v8': '100 mil', 'v10': '200 mil'}, 3.0]\n"
     ]
    }
   ],
   "source": [
    "minha_lista = [\"Maverick\",(\"v8\", \"v10\"),{\"v8\": \"100 mil\", \"v10\": \"200 mil\"}, 3.0]\n",
    "print(minha_lista)"
   ]
  },
  {
   "cell_type": "raw",
   "id": "2052c38e-3164-4d41-9e06-9dfba96bee6c",
   "metadata": {},
   "source": [
    "# 10 - Considere a string abaixo. Imprima na tela apenas os caracteres da posição 1 a 18.\n",
    "frase = 'Cientista de Dados é o profissional mais sexy do século XXI'"
   ]
  },
  {
   "cell_type": "code",
   "execution_count": 65,
   "id": "74c3b939-a8b7-41ad-99ab-5c1293bf819d",
   "metadata": {},
   "outputs": [
    {
     "data": {
      "text/plain": [
       "'Cientista de Dados'"
      ]
     },
     "execution_count": 65,
     "metadata": {},
     "output_type": "execute_result"
    }
   ],
   "source": [
    "frase = 'Cientista de Dados é o profissional mais sexy do século XXI'\n",
    "frase[0:18]"
   ]
  },
  {
   "cell_type": "raw",
   "id": "dc9259f9-a13d-43ea-bf37-7d0a87f49f3c",
   "metadata": {},
   "source": [
    "###FIM"
   ]
  }
 ],
 "metadata": {
  "kernelspec": {
   "display_name": "anaconda-panel-2023.05-py310",
   "language": "python",
   "name": "conda-env-anaconda-panel-2023.05-py310-py"
  },
  "language_info": {
   "codemirror_mode": {
    "name": "ipython",
    "version": 3
   },
   "file_extension": ".py",
   "mimetype": "text/x-python",
   "name": "python",
   "nbconvert_exporter": "python",
   "pygments_lexer": "ipython3",
   "version": "3.11.4"
  },
  "toc-autonumbering": false,
  "toc-showcode": false
 },
 "nbformat": 4,
 "nbformat_minor": 5
}
