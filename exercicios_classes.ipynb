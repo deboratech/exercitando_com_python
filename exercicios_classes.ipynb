{
  "cells": [
    {
      "cell_type": "markdown",
      "metadata": {
        "id": "view-in-github",
        "colab_type": "text"
      },
      "source": [
        "<a href=\"https://colab.research.google.com/github/deboratech/exercitando_com_python/blob/main/exercicios_classes.ipynb\" target=\"_parent\"><img src=\"https://colab.research.google.com/assets/colab-badge.svg\" alt=\"Open In Colab\"/></a>"
      ]
    },
    {
      "cell_type": "code",
      "execution_count": 1,
      "metadata": {
        "colab": {
          "base_uri": "https://localhost:8080/"
        },
        "id": "sHoXszdZjmgp",
        "outputId": "fdd48cdb-1c4b-4541-ba5c-4c87958aedfc"
      },
      "outputs": [
        {
          "output_type": "stream",
          "name": "stdout",
          "text": [
            "Versão da Linguagem Python Usada Neste Jupyter Notebook: 3.10.12\n"
          ]
        }
      ],
      "source": [
        "# Versão da Linguagem Python\n",
        "from platform import python_version\n",
        "print('Versão da Linguagem Python Usada Neste Jupyter Notebook:', python_version())"
      ]
    },
    {
      "cell_type": "markdown",
      "metadata": {
        "id": "lrp39eu6jmg0"
      },
      "source": [
        "## Exercícios"
      ]
    },
    {
      "cell_type": "code",
      "execution_count": 3,
      "metadata": {
        "colab": {
          "base_uri": "https://localhost:8080/"
        },
        "id": "9XEISqtvjmg3",
        "outputId": "4b0c2866-f9cf-4335-d2c3-5e73a22756c8"
      },
      "outputs": [
        {
          "output_type": "stream",
          "name": "stdout",
          "text": [
            "10 34\n",
            "22 78\n"
          ]
        }
      ],
      "source": [
        "# Exercício 1 - Crie um objeto a partir da classe abaixo, chamado roc1, passando 2 parâmetros e depois faça uma chamada aos atributos e métodos\n",
        "\n",
        "from math import sqrt\n",
        "\n",
        "class Rocket():\n",
        "\n",
        "    def __init__(self, x=0, y=0):\n",
        "        self.x = x\n",
        "        self.y = y\n",
        "\n",
        "    def move_rocket(self, x_increment=0, y_increment=1):\n",
        "        self.x += x_increment\n",
        "        self.y += y_increment\n",
        "\n",
        "    def print_rocket(self):\n",
        "        print(self.x, self.y)\n",
        "\n",
        "\n",
        "roc1 = Rocket(10,34)\n",
        "roc1.x\n",
        "roc1.y\n",
        "roc1.print_rocket()\n",
        "roc1.move_rocket(12, 44)\n",
        "roc1.print_rocket()"
      ]
    },
    {
      "cell_type": "code",
      "execution_count": 15,
      "metadata": {
        "colab": {
          "base_uri": "https://localhost:8080/"
        },
        "id": "G8r_eAjTjmg6",
        "outputId": "a9eac756-46e1-49b0-f6a1-4c335b4aa1a7"
      },
      "outputs": [
        {
          "output_type": "stream",
          "name": "stdout",
          "text": [
            "Débora Tech vive em Nova York. Contato: 123456789, Email: deboratech@consultancy.com\n"
          ]
        }
      ],
      "source": [
        "# Exercício 2 - Crie uma classe chamada Pessoa() com os atributos: nome, cidade, telefone e e-mail. Use pelo menos 2 métodos especiais na sua classe.\n",
        "# Crie um objeto da sua classe e faça uma chamada a pelo menos um dos seus métodos especiais.\n",
        "\n",
        "class Pessoa():\n",
        "    def __init__(self, nome, cidade, telefone, email):\n",
        "        self.nome = nome\n",
        "        self.cidade = cidade\n",
        "        self.telefone = telefone\n",
        "        self.email = email\n",
        "\n",
        "    def __str__(self):\n",
        "        return f\"{self.nome} vive em {self.cidade}. Contato: {self.telefone}, Email: {self.email}\"\n",
        "\n",
        "    def __repr__(self):\n",
        "        return f\"Pessoa(nome={self.nome}, cidade={self.cidade}, telefone={self.telefone}, email={self.email})\"\n",
        "\n",
        "\n",
        "pessoa1 = Pessoa(nome=\"Débora Tech\", cidade=\"Nova York\", telefone=\"123456789\", email=\"deboratech@consultancy.com\")\n",
        "\n",
        "print(str(pessoa1))\n",
        "\n"
      ]
    },
    {
      "cell_type": "code",
      "execution_count": 16,
      "metadata": {
        "colab": {
          "base_uri": "https://localhost:8080/"
        },
        "id": "qMSJh8mkjmg8",
        "outputId": "efb6fc2a-87ae-4bd2-b390-e515a269257f"
      },
      "outputs": [
        {
          "output_type": "stream",
          "name": "stdout",
          "text": [
            "Valores para o objeto criado: Grande Led 64 GB\n"
          ]
        }
      ],
      "source": [
        "# Exercício 3 - Crie a classe Smartphone com 2 atributos, tamanho e interface e crie a classe MP3Player com os atributos capacidade.\n",
        "# A classe MP3player deve herdar os atributos da classe Smartphone.\n",
        "\n",
        "class Smartphone(object):\n",
        "    def __init__(self, tamanho, interface):\n",
        "        self.tamanho = tamanho\n",
        "        self.interface = interface\n",
        "\n",
        "class MP3Player(Smartphone):\n",
        "    def __init__(self, capacidade, tamanho = 'Grande', interface = 'Led'):\n",
        "        self.capacidade = capacidade\n",
        "        Smartphone.__init__(self, tamanho, interface)\n",
        "\n",
        "    def print_mp3player(self):\n",
        "        print(\"Valores para o objeto criado: %s %s %s\"  %(self.tamanho, self.interface, self.capacidade))\n",
        "\n",
        "device1 = MP3Player('64 GB')\n",
        "device1.print_mp3player()"
      ]
    }
  ],
  "metadata": {
    "kernelspec": {
      "display_name": "Python 3 (ipykernel)",
      "language": "python",
      "name": "python3"
    },
    "language_info": {
      "codemirror_mode": {
        "name": "ipython",
        "version": 3
      },
      "file_extension": ".py",
      "mimetype": "text/x-python",
      "name": "python",
      "nbconvert_exporter": "python",
      "pygments_lexer": "ipython3",
      "version": "3.9.13"
    },
    "colab": {
      "provenance": [],
      "include_colab_link": true
    }
  },
  "nbformat": 4,
  "nbformat_minor": 0
}